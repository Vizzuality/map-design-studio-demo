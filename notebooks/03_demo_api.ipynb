{
 "cells": [
  {
   "attachments": {},
   "cell_type": "markdown",
   "metadata": {
    "collapsed": false
   },
   "source": [
    "# Map Design Studio Demo using a FastAPI backend\n",
    "\n",
    "The porpose of this demo is to show how to use the Map Design Studio to create a map."
   ]
  },
  {
   "attachments": {},
   "cell_type": "markdown",
   "metadata": {},
   "source": [
    "## Setup\n",
    "\n",
    "### Library import\n"
   ]
  },
  {
   "cell_type": "code",
   "execution_count": 1,
   "metadata": {
    "collapsed": false
   },
   "outputs": [
    {
     "data": {
      "text/plain": [
       "True"
      ]
     },
     "execution_count": 1,
     "metadata": {},
     "output_type": "execute_result"
    }
   ],
   "source": [
    "# imports\n",
    "import os\n",
    "\n",
    "import folium\n",
    "import numpy as np\n",
    "import requests\n",
    "from dotenv import load_dotenv\n",
    "from folium.plugins import VectorGridProtobuf\n",
    "from matplotlib.colors import LinearSegmentedColormap\n",
    "from pydantic import BaseModel\n",
    "\n",
    "# Load the environment variables from the .env file\n",
    "load_dotenv()"
   ]
  },
  {
   "cell_type": "markdown",
   "metadata": {},
   "source": [
    "**Constants**"
   ]
  },
  {
   "cell_type": "code",
   "execution_count": 2,
   "metadata": {},
   "outputs": [],
   "source": [
    "# Constants\n",
    "API_BASE_URL = \"http://127.0.0.1:8000\""
   ]
  },
  {
   "cell_type": "markdown",
   "metadata": {},
   "source": [
    "### Utils"
   ]
  },
  {
   "cell_type": "code",
   "execution_count": 3,
   "metadata": {},
   "outputs": [],
   "source": [
    "def rgb_to_hex(rgb):\n",
    "    \"\"\"\n",
    "    Convert RGB color values to hexadecimal representation.\n",
    "\n",
    "    Args:\n",
    "        rgb (tuple): A tuple of three integers representing the RGB color values.\n",
    "\n",
    "    Returns:\n",
    "        str: The hexadecimal representation of the RGB color values.\n",
    "\n",
    "    Example:\n",
    "        >>> rgb_to_hex((255, 0, 0))\n",
    "        '#ff0000'\n",
    "    \"\"\"\n",
    "    return \"#{:02x}{:02x}{:02x}\".format(*rgb)\n",
    "\n",
    "\n",
    "def generate_styles_dict(colors):\n",
    "    \"\"\"\n",
    "    Generate a dictionary of color map values from a list of colors.\n",
    "\n",
    "    Args:\n",
    "        colors (list): A list of colors.\n",
    "\n",
    "    Returns:\n",
    "        dict: A dictionary of color map values.\n",
    "\n",
    "    \"\"\"\n",
    "    cmap = LinearSegmentedColormap.from_list(\"cmap\", colors, 256)\n",
    "    x = np.linspace(0, 1, 256)\n",
    "    cmap_vals = cmap(x)[:, :]\n",
    "    cmap_uint8 = (cmap_vals * 255).astype(\"uint8\")\n",
    "    cmap_dict = {str(idx): rgb_to_hex(tuple(value)[:-1]) for idx, value in enumerate(cmap_uint8)}\n",
    "    return cmap_dict"
   ]
  },
  {
   "cell_type": "code",
   "execution_count": 4,
   "metadata": {},
   "outputs": [],
   "source": [
    "class RasterData(BaseModel):\n",
    "    \"\"\"\n",
    "    Represents the data of a raster layer.\n",
    "    \"\"\"\n",
    "\n",
    "    id: int\n",
    "    styles: dict\n",
    "\n",
    "\n",
    "class VectorData(BaseModel):\n",
    "    \"\"\"\n",
    "    Represents the data of a vector layer.\n",
    "    \"\"\"\n",
    "\n",
    "    id: int"
   ]
  },
  {
   "attachments": {},
   "cell_type": "markdown",
   "metadata": {
    "collapsed": false
   },
   "source": [
    "<a id='section_1'></a>\n",
    "## Demo"
   ]
  },
  {
   "cell_type": "markdown",
   "metadata": {},
   "source": [
    "### Create Layers\n",
    "#### Continuous raster layer\n",
    "**Styles**"
   ]
  },
  {
   "cell_type": "code",
   "execution_count": 5,
   "metadata": {},
   "outputs": [],
   "source": [
    "colors = [\n",
    "    '#422112',\n",
    "    '#724C01',\n",
    "    '#CEA712',\n",
    "    '#FFA904',\n",
    "    '#FDFE00',\n",
    "    '#E6EC06',\n",
    "    '#BACF00',\n",
    "    '#8BB001',\n",
    "    '#72A002',\n",
    "    '#5B8D03',\n",
    "    '#448102',\n",
    "    '#2C7001',\n",
    "    '#176100',\n",
    "]\n",
    "styles_dict = generate_styles_dict(colors)"
   ]
  },
  {
   "cell_type": "markdown",
   "metadata": {},
   "source": [
    "**Get Tiles**"
   ]
  },
  {
   "cell_type": "code",
   "execution_count": 9,
   "metadata": {},
   "outputs": [],
   "source": [
    "raster_data = RasterData(id=1, styles=styles_dict)  # noqa: F821\n",
    "response_raster_continuous = requests.get(\n",
    "    f\"{API_BASE_URL}/raster_tiles\", json=raster_data.model_dump()\n",
    ")\n",
    "raster_continuous = response_raster_continuous.json()"
   ]
  },
  {
   "cell_type": "markdown",
   "metadata": {},
   "source": [
    "#### Categorical raster layer\n",
    "**Styles**"
   ]
  },
  {
   "cell_type": "code",
   "execution_count": 11,
   "metadata": {},
   "outputs": [],
   "source": [
    "styles_dict = {\n",
    "    \"0\": \"#1327FE\",\n",
    "    \"1\": \"#0B4614\",\n",
    "    \"2\": \"#0C691B\",\n",
    "    \"3\": \"#54A51B\",\n",
    "    \"4\": \"#76D01E\",\n",
    "    \"5\": \"#DCCF5C\",\n",
    "    \"6\": \"#B4FE25\",\n",
    "    \"7\": \"#DADC4D\",\n",
    "    \"8\": \"#C25045\",\n",
    "    \"9\": \"#A4A4A4\",\n",
    "    \"10\": \"#64FFF8\",\n",
    "    \"11\": \"#F9FEA4\",\n",
    "}"
   ]
  },
  {
   "cell_type": "markdown",
   "metadata": {},
   "source": [
    "**Get Tiles**"
   ]
  },
  {
   "cell_type": "code",
   "execution_count": 12,
   "metadata": {},
   "outputs": [],
   "source": [
    "raster_data = RasterData(id=2, styles=styles_dict)  # noqa: F821\n",
    "response_raster_categorical = requests.get(\n",
    "    f\"{API_BASE_URL}/raster_tiles\", json=raster_data.model_dump()\n",
    ")\n",
    "\n",
    "raster_categorical = response_raster_categorical.json()"
   ]
  },
  {
   "cell_type": "markdown",
   "metadata": {},
   "source": [
    "#### Vector layer"
   ]
  },
  {
   "cell_type": "markdown",
   "metadata": {},
   "source": [
    "**Get Tiles**"
   ]
  },
  {
   "cell_type": "code",
   "execution_count": 14,
   "metadata": {
    "collapsed": false
   },
   "outputs": [],
   "source": [
    "vector_data = VectorData(id=3)\n",
    "response_vector = requests.get(f\"{API_BASE_URL}/vector_tiles\", json=vector_data.model_dump())\n",
    "\n",
    "vector = response_vector.json()"
   ]
  },
  {
   "cell_type": "markdown",
   "metadata": {},
   "source": [
    "### Create Map"
   ]
  },
  {
   "cell_type": "markdown",
   "metadata": {},
   "source": [
    "#### Basemap\n",
    "\n",
    "For a list of basemaps providers go to https://leaflet-extras.github.io/leaflet-providers/preview/.\n",
    "You can also provide a custom basemap:"
   ]
  },
  {
   "cell_type": "code",
   "execution_count": 16,
   "metadata": {},
   "outputs": [],
   "source": [
    "# Get the value of the MAPBOX_API_KEY environment variable\n",
    "mapbox_api_key = os.getenv(\"MAPBOX_API_KEY\")"
   ]
  },
  {
   "cell_type": "code",
   "execution_count": 17,
   "metadata": {},
   "outputs": [],
   "source": [
    "custom_basemap = (\n",
    "    \"https://api.mapbox.com/styles/v1/lce1/clocw2j2d016501qx90go7rwt/tiles/256/{z}/{x}/{y}@2x?\"\n",
    "    + f\"access_token={mapbox_api_key}\"\n",
    ")\n",
    "attr = (\n",
    "    '© <a href=\"https://www.mapbox.com/about/maps/\">Mapbox</a> '\n",
    "    '© <a href=\"http://www.openstreetmap.org/copyright\">OpenStreetMap</a> '\n",
    "    '<strong><a href=\"https://www.mapbox.com/map-feedback/\" '\n",
    "    'target=\"_blank\">Improve this map</a></strong>'\n",
    ")"
   ]
  },
  {
   "cell_type": "markdown",
   "metadata": {},
   "source": [
    "#### Map"
   ]
  },
  {
   "cell_type": "code",
   "execution_count": 18,
   "metadata": {},
   "outputs": [],
   "source": [
    "m = folium.Map(tiles=custom_basemap, attr=attr)"
   ]
  },
  {
   "cell_type": "markdown",
   "metadata": {},
   "source": [
    "**Add raster layers**"
   ]
  },
  {
   "cell_type": "code",
   "execution_count": 19,
   "metadata": {},
   "outputs": [
    {
     "data": {
      "text/plain": [
       "<folium.raster_layers.TileLayer at 0x7efc0ecaa050>"
      ]
     },
     "execution_count": 19,
     "metadata": {},
     "output_type": "execute_result"
    }
   ],
   "source": [
    "# Add continuou raster layer to the map\n",
    "tile_layer = folium.TileLayer(\n",
    "    tiles=raster_continuous.get(\"url\"),\n",
    "    name=raster_continuous.get(\"info\").get(\"name\"),\n",
    "    attr=\" \",\n",
    "    overlay=True,\n",
    "    control=True,\n",
    "    opacity=1,\n",
    ")\n",
    "\n",
    "tile_layer.add_to(m)\n",
    "\n",
    "# Add categorical raster layer to the map\n",
    "tile_layer = folium.TileLayer(\n",
    "    tiles=raster_categorical.get(\"url\"),\n",
    "    name=raster_categorical.get(\"info\").get(\"name\"),\n",
    "    attr=\" \",\n",
    "    overlay=True,\n",
    "    control=True,\n",
    "    opacity=1,\n",
    ")\n",
    "\n",
    "tile_layer.add_to(m)"
   ]
  },
  {
   "cell_type": "markdown",
   "metadata": {},
   "source": [
    "**Add vector layers**"
   ]
  },
  {
   "cell_type": "code",
   "execution_count": 20,
   "metadata": {},
   "outputs": [],
   "source": [
    "styles_dict = {\n",
    "    \"fill\": True,\n",
    "    \"weight\": 1,\n",
    "    \"fillColor\": \"#06cccc\",\n",
    "    \"color\": \"#06cccc\",\n",
    "    \"fillOpacity\": 0.1,\n",
    "    \"opacity\": 1,\n",
    "}\n",
    "\n",
    "layer_name = vector.get(\"layer_name\")\n",
    "\n",
    "vector_tile_layer_styles = {}\n",
    "vector_tile_layer_styles[layer_name] = styles_dict\n",
    "options = {\"vectorTileLayerStyles\": vector_tile_layer_styles}"
   ]
  },
  {
   "cell_type": "code",
   "execution_count": 21,
   "metadata": {},
   "outputs": [
    {
     "data": {
      "text/plain": [
       "<folium.plugins.vectorgrid_protobuf.VectorGridProtobuf at 0x7efc0ecaa590>"
      ]
     },
     "execution_count": 21,
     "metadata": {},
     "output_type": "execute_result"
    }
   ],
   "source": [
    "tile_layer = VectorGridProtobuf(\n",
    "    url=vector.get(\"url\"),\n",
    "    name=vector.get(\"info\").get(\"name\"),\n",
    "    options=options,\n",
    "    overlay=True,\n",
    "    control=True,\n",
    ")\n",
    "\n",
    "tile_layer.add_to(m)"
   ]
  },
  {
   "cell_type": "markdown",
   "metadata": {},
   "source": [
    "**Add control to turn on/off the layer**"
   ]
  },
  {
   "cell_type": "code",
   "execution_count": 22,
   "metadata": {},
   "outputs": [
    {
     "name": "stdout",
     "output_type": "stream",
     "text": [
      "Your map should have been opened in your browser automatically.\n",
      "Press ctrl+c to return.\n"
     ]
    }
   ],
   "source": [
    "# Add control to turn on/off the layer\n",
    "control = folium.LayerControl(position=\"topright\")\n",
    "control.add_to(m)\n",
    "m.show_in_browser()"
   ]
  }
 ],
 "metadata": {
  "kernelspec": {
   "display_name": "Python 3",
   "language": "python",
   "name": "python3"
  },
  "language_info": {
   "codemirror_mode": {
    "name": "ipython",
    "version": 3
   },
   "file_extension": ".py",
   "mimetype": "text/x-python",
   "name": "python",
   "nbconvert_exporter": "python",
   "pygments_lexer": "ipython3",
   "version": "3.11.4"
  }
 },
 "nbformat": 4,
 "nbformat_minor": 0
}
