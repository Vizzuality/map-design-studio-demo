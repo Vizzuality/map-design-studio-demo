{
 "cells": [
  {
   "attachments": {},
   "cell_type": "markdown",
   "metadata": {
    "collapsed": false
   },
   "source": [
    "# Map Design Studio Demo using a FastAPI backend\n",
    "\n",
    "The porpose of this demo is to show how to use the Map Design Studio to create a map."
   ]
  },
  {
   "attachments": {},
   "cell_type": "markdown",
   "metadata": {},
   "source": [
    "## Setup\n",
    "\n",
    "### Library import\n"
   ]
  },
  {
   "cell_type": "code",
   "execution_count": 1,
   "metadata": {
    "collapsed": false
   },
   "outputs": [
    {
     "data": {
      "text/plain": [
       "True"
      ]
     },
     "execution_count": 1,
     "metadata": {},
     "output_type": "execute_result"
    }
   ],
   "source": [
    "# imports\n",
    "import os\n",
    "\n",
    "import folium\n",
    "import numpy as np\n",
    "import requests\n",
    "from dotenv import load_dotenv\n",
    "from folium.plugins import VectorGridProtobuf\n",
    "from matplotlib.colors import LinearSegmentedColormap\n",
    "from pydantic import BaseModel\n",
    "\n",
    "# Load the environment variables from the .env file\n",
    "load_dotenv()"
   ]
  },
  {
   "cell_type": "markdown",
   "metadata": {},
   "source": [
    "**Constants**"
   ]
  },
  {
   "cell_type": "code",
   "execution_count": 2,
   "metadata": {},
   "outputs": [],
   "source": [
    "# Constants\n",
    "API_BASE_URL = \"http://127.0.0.1:8088\""
   ]
  },
  {
   "cell_type": "markdown",
   "metadata": {},
   "source": [
    "### Utils"
   ]
  },
  {
   "cell_type": "code",
   "execution_count": 3,
   "metadata": {},
   "outputs": [],
   "source": [
    "def rgb_to_hex(rgb):\n",
    "    \"\"\"\n",
    "    Convert RGB color values to hexadecimal representation.\n",
    "\n",
    "    Args:\n",
    "        rgb (tuple): A tuple of three integers representing the RGB color values.\n",
    "\n",
    "    Returns:\n",
    "        str: The hexadecimal representation of the RGB color values.\n",
    "\n",
    "    Example:\n",
    "        >>> rgb_to_hex((255, 0, 0))\n",
    "        '#ff0000'\n",
    "    \"\"\"\n",
    "    return \"#{:02x}{:02x}{:02x}\".format(*rgb)\n",
    "\n",
    "\n",
    "def generate_styles_dict(colors):\n",
    "    \"\"\"\n",
    "    Generate a dictionary of color map values from a list of colors.\n",
    "\n",
    "    Args:\n",
    "        colors (list): A list of colors.\n",
    "\n",
    "    Returns:\n",
    "        dict: A dictionary of color map values.\n",
    "\n",
    "    \"\"\"\n",
    "    cmap = LinearSegmentedColormap.from_list(\"cmap\", colors, 256)\n",
    "    x = np.linspace(0, 1, 256)\n",
    "    cmap_vals = cmap(x)[:, :]\n",
    "    cmap_uint8 = (cmap_vals * 255).astype(\"uint8\")\n",
    "    cmap_dict = {str(idx): rgb_to_hex(tuple(value)[:-1]) for idx, value in enumerate(cmap_uint8)}\n",
    "    return cmap_dict"
   ]
  },
  {
   "cell_type": "code",
   "execution_count": 4,
   "metadata": {},
   "outputs": [],
   "source": [
    "class RasterData(BaseModel):\n",
    "    \"\"\"\n",
    "    Represents the data of a raster layer.\n",
    "    \"\"\"\n",
    "\n",
    "    id: int\n",
    "    styles: dict\n",
    "\n",
    "\n",
    "class VectorData(BaseModel):\n",
    "    \"\"\"\n",
    "    Represents the data of a vector layer.\n",
    "    \"\"\"\n",
    "\n",
    "    id: int"
   ]
  },
  {
   "attachments": {},
   "cell_type": "markdown",
   "metadata": {
    "collapsed": false
   },
   "source": [
    "<a id='section_1'></a>\n",
    "## Demo"
   ]
  },
  {
   "cell_type": "markdown",
   "metadata": {},
   "source": [
    "### Create Layers\n",
    "#### Continuous raster layer\n",
    "**Styles**"
   ]
  },
  {
   "cell_type": "code",
   "execution_count": 5,
   "metadata": {},
   "outputs": [],
   "source": [
    "colors = [\n",
    "    '#422112',\n",
    "    '#724C01',\n",
    "    '#CEA712',\n",
    "    '#FFA904',\n",
    "    '#FDFE00',\n",
    "    '#E6EC06',\n",
    "    '#BACF00',\n",
    "    '#8BB001',\n",
    "    '#72A002',\n",
    "    '#5B8D03',\n",
    "    '#448102',\n",
    "    '#2C7001',\n",
    "    '#176100',\n",
    "]\n",
    "styles_dict = generate_styles_dict(colors)"
   ]
  },
  {
   "cell_type": "markdown",
   "metadata": {},
   "source": [
    "**Get Tiles**"
   ]
  },
  {
   "cell_type": "code",
   "execution_count": 6,
   "metadata": {},
   "outputs": [],
   "source": [
    "raster_data = RasterData(id=1, styles=styles_dict)  # noqa: F821\n",
    "response_raster_continuous = requests.get(\n",
    "    f\"{API_BASE_URL}/raster_tiles\", json=raster_data.model_dump()\n",
    ")\n",
    "\n",
    "raster_continuous = response_raster_continuous.json()"
   ]
  },
  {
   "cell_type": "markdown",
   "metadata": {},
   "source": [
    "#### Categorical raster layer\n",
    "**Styles**"
   ]
  },
  {
   "cell_type": "code",
   "execution_count": 5,
   "metadata": {},
   "outputs": [],
   "source": [
    "styles_dict = {\n",
    "    \"0\": \"#1327FE\",\n",
    "    \"1\": \"#0B4614\",\n",
    "    \"2\": \"#0C691B\",\n",
    "    \"3\": \"#54A51B\",\n",
    "    \"4\": \"#76D01E\",\n",
    "    \"5\": \"#DCCF5C\",\n",
    "    \"6\": \"#B4FE25\",\n",
    "    \"7\": \"#DADC4D\",\n",
    "    \"8\": \"#C25045\",\n",
    "    \"9\": \"#A4A4A4\",\n",
    "    \"10\": \"#64FFF8\",\n",
    "    \"11\": \"#F9FEA4\",\n",
    "}"
   ]
  },
  {
   "cell_type": "markdown",
   "metadata": {},
   "source": [
    "**Get Tiles**"
   ]
  },
  {
   "cell_type": "code",
   "execution_count": 6,
   "metadata": {},
   "outputs": [],
   "source": [
    "raster_data = RasterData(id=2, styles=styles_dict)  # noqa: F821\n",
    "response_raster_categorical = requests.get(\n",
    "    f\"{API_BASE_URL}/raster_tiles\", json=raster_data.model_dump()\n",
    ")\n",
    "\n",
    "raster_categorical = response_raster_categorical.json()"
   ]
  },
  {
   "cell_type": "markdown",
   "metadata": {},
   "source": [
    "#### Vector layer"
   ]
  },
  {
   "cell_type": "markdown",
   "metadata": {},
   "source": [
    "**Get Tiles**"
   ]
  },
  {
   "cell_type": "code",
   "execution_count": 8,
   "metadata": {
    "collapsed": false
   },
   "outputs": [],
   "source": [
    "vector_data = VectorData(id=3)\n",
    "response_vector = requests.get(f\"{API_BASE_URL}/vector_tiles\", json=vector_data.model_dump())\n",
    "\n",
    "vector = response_vector.json()"
   ]
  },
  {
   "cell_type": "markdown",
   "metadata": {},
   "source": [
    "### Create Map"
   ]
  },
  {
   "cell_type": "markdown",
   "metadata": {},
   "source": [
    "#### Basemap\n",
    "\n",
    "For a list of basemaps providers go to https://leaflet-extras.github.io/leaflet-providers/preview/.\n",
    "You can also provide a custom basemap:"
   ]
  },
  {
   "cell_type": "code",
   "execution_count": 11,
   "metadata": {},
   "outputs": [],
   "source": [
    "# Get the value of the MAPBOX_API_KEY environment variable\n",
    "mapbox_api_key = os.getenv(\"MAPBOX_API_KEY\")"
   ]
  },
  {
   "cell_type": "code",
   "execution_count": 12,
   "metadata": {},
   "outputs": [],
   "source": [
    "custom_basemap = (\n",
    "    \"https://api.mapbox.com/styles/v1/lce1/clocw2j2d016501qx90go7rwt/tiles/256/{z}/{x}/{y}@2x?\"\n",
    "    + f\"access_token={mapbox_api_key}\"\n",
    ")\n",
    "attr = (\n",
    "    '© <a href=\"https://www.mapbox.com/about/maps/\">Mapbox</a> '\n",
    "    '© <a href=\"http://www.openstreetmap.org/copyright\">OpenStreetMap</a> '\n",
    "    '<strong><a href=\"https://www.mapbox.com/map-feedback/\" '\n",
    "    'target=\"_blank\">Improve this map</a></strong>'\n",
    ")"
   ]
  },
  {
   "cell_type": "markdown",
   "metadata": {},
   "source": [
    "#### Map"
   ]
  },
  {
   "cell_type": "code",
   "execution_count": 13,
   "metadata": {},
   "outputs": [],
   "source": [
    "m = folium.Map(tiles=custom_basemap, attr=attr)"
   ]
  },
  {
   "cell_type": "markdown",
   "metadata": {},
   "source": [
    "**Add raster layers**"
   ]
  },
  {
   "cell_type": "code",
   "execution_count": 14,
   "metadata": {},
   "outputs": [
    {
     "data": {
      "text/plain": [
       "<folium.raster_layers.TileLayer at 0x7f5ae5388e90>"
      ]
     },
     "execution_count": 14,
     "metadata": {},
     "output_type": "execute_result"
    }
   ],
   "source": [
    "# Add continuou raster layer to the map\n",
    "tile_layer = folium.TileLayer(\n",
    "    tiles=raster_continuous.get(\"url\"),\n",
    "    name=raster_continuous.get(\"info\").get(\"name\"),\n",
    "    attr=\" \",\n",
    "    overlay=True,\n",
    "    control=True,\n",
    "    opacity=1,\n",
    ")\n",
    "\n",
    "tile_layer.add_to(m)\n",
    "\n",
    "# Add categorical raster layer to the map\n",
    "tile_layer = folium.TileLayer(\n",
    "    tiles=raster_categorical.get(\"url\"),\n",
    "    name=raster_categorical.get(\"info\").get(\"name\"),\n",
    "    attr=\" \",\n",
    "    overlay=True,\n",
    "    control=True,\n",
    "    opacity=1,\n",
    ")\n",
    "\n",
    "tile_layer.add_to(m)"
   ]
  },
  {
   "cell_type": "markdown",
   "metadata": {},
   "source": [
    "**Add vector layers**"
   ]
  },
  {
   "cell_type": "code",
   "execution_count": 15,
   "metadata": {},
   "outputs": [],
   "source": [
    "styles_dict = {\n",
    "    \"fill\": True,\n",
    "    \"weight\": 1,\n",
    "    \"fillColor\": \"#06cccc\",\n",
    "    \"color\": \"#06cccc\",\n",
    "    \"fillOpacity\": 0.1,\n",
    "    \"opacity\": 1,\n",
    "}\n",
    "\n",
    "layer_name = vector.get(\"layer_name\")\n",
    "\n",
    "vector_tile_layer_styles = {}\n",
    "vector_tile_layer_styles[layer_name] = styles_dict\n",
    "options = {\"vectorTileLayerStyles\": vector_tile_layer_styles}"
   ]
  },
  {
   "cell_type": "code",
   "execution_count": 16,
   "metadata": {},
   "outputs": [
    {
     "data": {
      "text/plain": [
       "<folium.plugins.vectorgrid_protobuf.VectorGridProtobuf at 0x7f5af3bd3c90>"
      ]
     },
     "execution_count": 16,
     "metadata": {},
     "output_type": "execute_result"
    }
   ],
   "source": [
    "tile_layer = VectorGridProtobuf(\n",
    "    url=vector.get(\"url\"),\n",
    "    name=vector.get(\"info\").get(\"name\"),\n",
    "    options=options,\n",
    "    overlay=True,\n",
    "    control=True,\n",
    ")\n",
    "\n",
    "tile_layer.add_to(m)"
   ]
  },
  {
   "cell_type": "markdown",
   "metadata": {},
   "source": [
    "**Add control to turn on/off the layer**"
   ]
  },
  {
   "cell_type": "code",
   "execution_count": 17,
   "metadata": {},
   "outputs": [
    {
     "data": {
      "text/html": [
       "<div style=\"width:100%;\"><div style=\"position:relative;width:100%;height:0;padding-bottom:60%;\"><span style=\"color:#565656\">Make this Notebook Trusted to load map: File -> Trust Notebook</span><iframe srcdoc=\"&lt;!DOCTYPE html&gt;\n",
       "&lt;html&gt;\n",
       "&lt;head&gt;\n",
       "    \n",
       "    &lt;meta http-equiv=&quot;content-type&quot; content=&quot;text/html; charset=UTF-8&quot; /&gt;\n",
       "    \n",
       "        &lt;script&gt;\n",
       "            L_NO_TOUCH = false;\n",
       "            L_DISABLE_3D = false;\n",
       "        &lt;/script&gt;\n",
       "    \n",
       "    &lt;style&gt;html, body {width: 100%;height: 100%;margin: 0;padding: 0;}&lt;/style&gt;\n",
       "    &lt;style&gt;#map {position:absolute;top:0;bottom:0;right:0;left:0;}&lt;/style&gt;\n",
       "    &lt;script src=&quot;https://cdn.jsdelivr.net/npm/leaflet@1.9.3/dist/leaflet.js&quot;&gt;&lt;/script&gt;\n",
       "    &lt;script src=&quot;https://code.jquery.com/jquery-3.7.1.min.js&quot;&gt;&lt;/script&gt;\n",
       "    &lt;script src=&quot;https://cdn.jsdelivr.net/npm/bootstrap@5.2.2/dist/js/bootstrap.bundle.min.js&quot;&gt;&lt;/script&gt;\n",
       "    &lt;script src=&quot;https://cdnjs.cloudflare.com/ajax/libs/Leaflet.awesome-markers/2.0.2/leaflet.awesome-markers.js&quot;&gt;&lt;/script&gt;\n",
       "    &lt;link rel=&quot;stylesheet&quot; href=&quot;https://cdn.jsdelivr.net/npm/leaflet@1.9.3/dist/leaflet.css&quot;/&gt;\n",
       "    &lt;link rel=&quot;stylesheet&quot; href=&quot;https://cdn.jsdelivr.net/npm/bootstrap@5.2.2/dist/css/bootstrap.min.css&quot;/&gt;\n",
       "    &lt;link rel=&quot;stylesheet&quot; href=&quot;https://netdna.bootstrapcdn.com/bootstrap/3.0.0/css/bootstrap.min.css&quot;/&gt;\n",
       "    &lt;link rel=&quot;stylesheet&quot; href=&quot;https://cdn.jsdelivr.net/npm/@fortawesome/fontawesome-free@6.2.0/css/all.min.css&quot;/&gt;\n",
       "    &lt;link rel=&quot;stylesheet&quot; href=&quot;https://cdnjs.cloudflare.com/ajax/libs/Leaflet.awesome-markers/2.0.2/leaflet.awesome-markers.css&quot;/&gt;\n",
       "    &lt;link rel=&quot;stylesheet&quot; href=&quot;https://cdn.jsdelivr.net/gh/python-visualization/folium/folium/templates/leaflet.awesome.rotate.min.css&quot;/&gt;\n",
       "    \n",
       "            &lt;meta name=&quot;viewport&quot; content=&quot;width=device-width,\n",
       "                initial-scale=1.0, maximum-scale=1.0, user-scalable=no&quot; /&gt;\n",
       "            &lt;style&gt;\n",
       "                #map_9f22644b4cfaac1114c192fcab0f28b3 {\n",
       "                    position: relative;\n",
       "                    width: 100.0%;\n",
       "                    height: 100.0%;\n",
       "                    left: 0.0%;\n",
       "                    top: 0.0%;\n",
       "                }\n",
       "                .leaflet-container { font-size: 1rem; }\n",
       "            &lt;/style&gt;\n",
       "        \n",
       "    &lt;script src=&quot;https://unpkg.com/leaflet.vectorgrid@latest/dist/Leaflet.VectorGrid.bundled.js&quot;&gt;&lt;/script&gt;\n",
       "&lt;/head&gt;\n",
       "&lt;body&gt;\n",
       "    \n",
       "    \n",
       "            &lt;div class=&quot;folium-map&quot; id=&quot;map_9f22644b4cfaac1114c192fcab0f28b3&quot; &gt;&lt;/div&gt;\n",
       "        \n",
       "&lt;/body&gt;\n",
       "&lt;script&gt;\n",
       "    \n",
       "    \n",
       "            var map_9f22644b4cfaac1114c192fcab0f28b3 = L.map(\n",
       "                &quot;map_9f22644b4cfaac1114c192fcab0f28b3&quot;,\n",
       "                {\n",
       "                    center: [0.0, 0.0],\n",
       "                    crs: L.CRS.EPSG3857,\n",
       "                    zoom: 1,\n",
       "                    zoomControl: true,\n",
       "                    preferCanvas: false,\n",
       "                }\n",
       "            );\n",
       "\n",
       "            \n",
       "\n",
       "        \n",
       "    \n",
       "            var tile_layer_3bc16cce607a1dde54accc8623cf1a42 = L.tileLayer(\n",
       "                &quot;https://api.mapbox.com/styles/v1/lce1/clocw2j2d016501qx90go7rwt/tiles/256/{z}/{x}/{y}@2x?access_token=pk.eyJ1IjoibGNlMSIsImEiOiJjbG9jdjBybWUwMWZvMmlwZWRqZzN1emNkIn0.uLJ_xo9U8CJ_QLA2bmhL5w&quot;,\n",
       "                {&quot;attribution&quot;: &quot;\\u00a9 \\u003ca href=\\&quot;https://www.mapbox.com/about/maps/\\&quot;\\u003eMapbox\\u003c/a\\u003e \\u00a9 \\u003ca href=\\&quot;http://www.openstreetmap.org/copyright\\&quot;\\u003eOpenStreetMap\\u003c/a\\u003e \\u003cstrong\\u003e\\u003ca href=\\&quot;https://www.mapbox.com/map-feedback/\\&quot; target=\\&quot;_blank\\&quot;\\u003eImprove this map\\u003c/a\\u003e\\u003c/strong\\u003e&quot;, &quot;detectRetina&quot;: false, &quot;maxNativeZoom&quot;: 18, &quot;maxZoom&quot;: 18, &quot;minZoom&quot;: 0, &quot;noWrap&quot;: false, &quot;opacity&quot;: 1, &quot;subdomains&quot;: &quot;abc&quot;, &quot;tms&quot;: false}\n",
       "            );\n",
       "        \n",
       "    \n",
       "            tile_layer_3bc16cce607a1dde54accc8623cf1a42.addTo(map_9f22644b4cfaac1114c192fcab0f28b3);\n",
       "        \n",
       "    \n",
       "            var tile_layer_756dab73111deb22cdd8102d1355eecb = L.tileLayer(\n",
       "                &quot;http://127.0.0.1:8080/tiles/WebMercatorQuad/{z}/{x}/{y}@1x?url=..%2Fdata%2Fraw%2Fraster_data%2Ffinal_lci.tif\\u0026bidx=1\\u0026colormap=%7B%220%22%3A+%22%23422112%22%2C+%221%22%3A+%22%23442311%22%2C+%222%22%3A+%22%23462510%22%2C+%223%22%3A+%22%2348270f%22%2C+%224%22%3A+%22%234b290e%22%2C+%225%22%3A+%22%234d2b0e%22%2C+%226%22%3A+%22%234f2d0d%22%2C+%227%22%3A+%22%23512f0c%22%2C+%228%22%3A+%22%2354310b%22%2C+%229%22%3A+%22%2356330a%22%2C+%2210%22%3A+%22%2358350a%22%2C+%2211%22%3A+%22%235a3709%22%2C+%2212%22%3A+%22%235d3908%22%2C+%2213%22%3A+%22%235f3b07%22%2C+%2214%22%3A+%22%23613d06%22%2C+%2215%22%3A+%22%23633f06%22%2C+%2216%22%3A+%22%23664105%22%2C+%2217%22%3A+%22%23684304%22%2C+%2218%22%3A+%22%236a4503%22%2C+%2219%22%3A+%22%236c4702%22%2C+%2220%22%3A+%22%236f4902%22%2C+%2221%22%3A+%22%23714b01%22%2C+%2222%22%3A+%22%23754f01%22%2C+%2223%22%3A+%22%23795302%22%2C+%2224%22%3A+%22%237d5703%22%2C+%2225%22%3A+%22%23825c04%22%2C+%2226%22%3A+%22%23866004%22%2C+%2227%22%3A+%22%238a6405%22%2C+%2228%22%3A+%22%238f6806%22%2C+%2229%22%3A+%22%23936d07%22%2C+%2230%22%3A+%22%23977108%22%2C+%2231%22%3A+%22%239c7508%22%2C+%2232%22%3A+%22%23a07a09%22%2C+%2233%22%3A+%22%23a47e0a%22%2C+%2234%22%3A+%22%23a9820b%22%2C+%2235%22%3A+%22%23ad860c%22%2C+%2236%22%3A+%22%23b18b0c%22%2C+%2237%22%3A+%22%23b68f0d%22%2C+%2238%22%3A+%22%23ba930e%22%2C+%2239%22%3A+%22%23be980f%22%2C+%2240%22%3A+%22%23c39c10%22%2C+%2241%22%3A+%22%23c7a010%22%2C+%2242%22%3A+%22%23cba411%22%2C+%2243%22%3A+%22%23cfa711%22%2C+%2244%22%3A+%22%23d1a711%22%2C+%2245%22%3A+%22%23d3a710%22%2C+%2246%22%3A+%22%23d6a70f%22%2C+%2247%22%3A+%22%23d8a70f%22%2C+%2248%22%3A+%22%23daa70e%22%2C+%2249%22%3A+%22%23dca70d%22%2C+%2250%22%3A+%22%23dfa70d%22%2C+%2251%22%3A+%22%23e1a70c%22%2C+%2252%22%3A+%22%23e3a70b%22%2C+%2253%22%3A+%22%23e6a70b%22%2C+%2254%22%3A+%22%23e8a80a%22%2C+%2255%22%3A+%22%23eaa809%22%2C+%2256%22%3A+%22%23eda809%22%2C+%2257%22%3A+%22%23efa808%22%2C+%2258%22%3A+%22%23f1a807%22%2C+%2259%22%3A+%22%23f4a807%22%2C+%2260%22%3A+%22%23f6a806%22%2C+%2261%22%3A+%22%23f8a805%22%2C+%2262%22%3A+%22%23faa805%22%2C+%2263%22%3A+%22%23fda804%22%2C+%2264%22%3A+%22%23feaa03%22%2C+%2265%22%3A+%22%23feae03%22%2C+%2266%22%3A+%22%23feb103%22%2C+%2267%22%3A+%22%23feb603%22%2C+%2268%22%3A+%22%23feba03%22%2C+%2269%22%3A+%22%23febe03%22%2C+%2270%22%3A+%22%23fec202%22%2C+%2271%22%3A+%22%23fec602%22%2C+%2272%22%3A+%22%23feca02%22%2C+%2273%22%3A+%22%23fece02%22%2C+%2274%22%3A+%22%23fed102%22%2C+%2275%22%3A+%22%23fdd601%22%2C+%2276%22%3A+%22%23fdda01%22%2C+%2277%22%3A+%22%23fdde01%22%2C+%2278%22%3A+%22%23fde201%22%2C+%2279%22%3A+%22%23fde601%22%2C+%2280%22%3A+%22%23fdea00%22%2C+%2281%22%3A+%22%23fdee00%22%2C+%2282%22%3A+%22%23fdf100%22%2C+%2283%22%3A+%22%23fdf600%22%2C+%2284%22%3A+%22%23fdfa00%22%2C+%2285%22%3A+%22%23fdfe00%22%2C+%2286%22%3A+%22%23fbfd00%22%2C+%2287%22%3A+%22%23fafc00%22%2C+%2288%22%3A+%22%23f9fb00%22%2C+%2289%22%3A+%22%23f8fa01%22%2C+%2290%22%3A+%22%23f7f901%22%2C+%2291%22%3A+%22%23f6f801%22%2C+%2292%22%3A+%22%23f5f801%22%2C+%2293%22%3A+%22%23f4f702%22%2C+%2294%22%3A+%22%23f3f602%22%2C+%2295%22%3A+%22%23f2f502%22%2C+%2296%22%3A+%22%23f1f403%22%2C+%2297%22%3A+%22%23f0f303%22%2C+%2298%22%3A+%22%23eef203%22%2C+%2299%22%3A+%22%23edf203%22%2C+%22100%22%3A+%22%23ecf104%22%2C+%22101%22%3A+%22%23ebf004%22%2C+%22102%22%3A+%22%23eaef04%22%2C+%22103%22%3A+%22%23e9ee05%22%2C+%22104%22%3A+%22%23e8ed05%22%2C+%22105%22%3A+%22%23e7ed05%22%2C+%22106%22%3A+%22%23e6ec05%22%2C+%22107%22%3A+%22%23e4ea05%22%2C+%22108%22%3A+%22%23e2e905%22%2C+%22109%22%3A+%22%23e0e805%22%2C+%22110%22%3A+%22%23dee604%22%2C+%22111%22%3A+%22%23dce504%22%2C+%22112%22%3A+%22%23dae404%22%2C+%22113%22%3A+%22%23d8e204%22%2C+%22114%22%3A+%22%23d5e103%22%2C+%22115%22%3A+%22%23d3e003%22%2C+%22116%22%3A+%22%23d1de03%22%2C+%22117%22%3A+%22%23cfdd02%22%2C+%22118%22%3A+%22%23cddb02%22%2C+%22119%22%3A+%22%23cbda02%22%2C+%22120%22%3A+%22%23c9d902%22%2C+%22121%22%3A+%22%23c7d701%22%2C+%22122%22%3A+%22%23c5d601%22%2C+%22123%22%3A+%22%23c3d501%22%2C+%22124%22%3A+%22%23c1d300%22%2C+%22125%22%3A+%22%23bfd200%22%2C+%22126%22%3A+%22%23bdd100%22%2C+%22127%22%3A+%22%23bbcf00%22%2C+%22128%22%3A+%22%23b8ce00%22%2C+%22129%22%3A+%22%23b6cc00%22%2C+%22130%22%3A+%22%23b4cb00%22%2C+%22131%22%3A+%22%23b2c900%22%2C+%22132%22%3A+%22%23b0c800%22%2C+%22133%22%3A+%22%23adc600%22%2C+%22134%22%3A+%22%23abc500%22%2C+%22135%22%3A+%22%23a9c400%22%2C+%22136%22%3A+%22%23a7c200%22%2C+%22137%22%3A+%22%23a4c100%22%2C+%22138%22%3A+%22%23a2bf00%22%2C+%22139%22%3A+%22%23a0be00%22%2C+%22140%22%3A+%22%239ebc00%22%2C+%22141%22%3A+%22%239cbb00%22%2C+%22142%22%3A+%22%2399b900%22%2C+%22143%22%3A+%22%2397b800%22%2C+%22144%22%3A+%22%2395b600%22%2C+%22145%22%3A+%22%2393b500%22%2C+%22146%22%3A+%22%2391b400%22%2C+%22147%22%3A+%22%238eb200%22%2C+%22148%22%3A+%22%238cb100%22%2C+%22149%22%3A+%22%238aaf01%22%2C+%22150%22%3A+%22%2389af01%22%2C+%22151%22%3A+%22%2388ae01%22%2C+%22152%22%3A+%22%2387ad01%22%2C+%22153%22%3A+%22%2385ac01%22%2C+%22154%22%3A+%22%2384ac01%22%2C+%22155%22%3A+%22%2383ab01%22%2C+%22156%22%3A+%22%2382aa01%22%2C+%22157%22%3A+%22%2381a901%22%2C+%22158%22%3A+%22%2380a901%22%2C+%22159%22%3A+%22%237ea801%22%2C+%22160%22%3A+%22%237da701%22%2C+%22161%22%3A+%22%237ca601%22%2C+%22162%22%3A+%22%237ba601%22%2C+%22163%22%3A+%22%237aa501%22%2C+%22164%22%3A+%22%2379a401%22%2C+%22165%22%3A+%22%2377a301%22%2C+%22166%22%3A+%22%2376a301%22%2C+%22167%22%3A+%22%2375a201%22%2C+%22168%22%3A+%22%2374a101%22%2C+%22169%22%3A+%22%2373a001%22%2C+%22170%22%3A+%22%2372a002%22%2C+%22171%22%3A+%22%23709f02%22%2C+%22172%22%3A+%22%236f9e02%22%2C+%22173%22%3A+%22%236e9d02%22%2C+%22174%22%3A+%22%236d9c02%22%2C+%22175%22%3A+%22%236c9b02%22%2C+%22176%22%3A+%22%236b9a02%22%2C+%22177%22%3A+%22%236a9902%22%2C+%22178%22%3A+%22%23699802%22%2C+%22179%22%3A+%22%23689702%22%2C+%22180%22%3A+%22%23679702%22%2C+%22181%22%3A+%22%23669602%22%2C+%22182%22%3A+%22%23659502%22%2C+%22183%22%3A+%22%23639402%22%2C+%22184%22%3A+%22%23629302%22%2C+%22185%22%3A+%22%23619202%22%2C+%22186%22%3A+%22%23609102%22%2C+%22187%22%3A+%22%235f9002%22%2C+%22188%22%3A+%22%235e8f02%22%2C+%22189%22%3A+%22%235d8f02%22%2C+%22190%22%3A+%22%235c8e02%22%2C+%22191%22%3A+%22%235b8d02%22%2C+%22192%22%3A+%22%235a8c02%22%2C+%22193%22%3A+%22%23598c02%22%2C+%22194%22%3A+%22%23588b02%22%2C+%22195%22%3A+%22%23568a02%22%2C+%22196%22%3A+%22%23558a02%22%2C+%22197%22%3A+%22%23548902%22%2C+%22198%22%3A+%22%23538902%22%2C+%22199%22%3A+%22%23528802%22%2C+%22200%22%3A+%22%23518802%22%2C+%22201%22%3A+%22%23508702%22%2C+%22202%22%3A+%22%234f8602%22%2C+%22203%22%3A+%22%234e8602%22%2C+%22204%22%3A+%22%234d8502%22%2C+%22205%22%3A+%22%234c8502%22%2C+%22206%22%3A+%22%234b8402%22%2C+%22207%22%3A+%22%23498402%22%2C+%22208%22%3A+%22%23488302%22%2C+%22209%22%3A+%22%23478202%22%2C+%22210%22%3A+%22%23468202%22%2C+%22211%22%3A+%22%23458102%22%2C+%22212%22%3A+%22%23448102%22%2C+%22213%22%3A+%22%23438001%22%2C+%22214%22%3A+%22%23427f01%22%2C+%22215%22%3A+%22%23417e01%22%2C+%22216%22%3A+%22%23407e01%22%2C+%22217%22%3A+%22%233e7d01%22%2C+%22218%22%3A+%22%233d7c01%22%2C+%22219%22%3A+%22%233c7b01%22%2C+%22220%22%3A+%22%233b7a01%22%2C+%22221%22%3A+%22%233a7a01%22%2C+%22222%22%3A+%22%23397901%22%2C+%22223%22%3A+%22%23387801%22%2C+%22224%22%3A+%22%23377701%22%2C+%22225%22%3A+%22%23357601%22%2C+%22226%22%3A+%22%23347601%22%2C+%22227%22%3A+%22%23337501%22%2C+%22228%22%3A+%22%23327401%22%2C+%22229%22%3A+%22%23317301%22%2C+%22230%22%3A+%22%23307201%22%2C+%22231%22%3A+%22%232f7201%22%2C+%22232%22%3A+%22%232d7101%22%2C+%22233%22%3A+%22%232c7001%22%2C+%22234%22%3A+%22%232b6f00%22%2C+%22235%22%3A+%22%232a6f00%22%2C+%22236%22%3A+%22%23296e00%22%2C+%22237%22%3A+%22%23286d00%22%2C+%22238%22%3A+%22%23276d00%22%2C+%22239%22%3A+%22%23266c00%22%2C+%22240%22%3A+%22%23256b00%22%2C+%22241%22%3A+%22%23246a00%22%2C+%22242%22%3A+%22%23236a00%22%2C+%22243%22%3A+%22%23226900%22%2C+%22244%22%3A+%22%23216800%22%2C+%22245%22%3A+%22%23206800%22%2C+%22246%22%3A+%22%231f6700%22%2C+%22247%22%3A+%22%231e6600%22%2C+%22248%22%3A+%22%231d6500%22%2C+%22249%22%3A+%22%231c6500%22%2C+%22250%22%3A+%22%231b6400%22%2C+%22251%22%3A+%22%231a6300%22%2C+%22252%22%3A+%22%23196300%22%2C+%22253%22%3A+%22%23186200%22%2C+%22254%22%3A+%22%23176100%22%2C+%22255%22%3A+%22%23176100%22%7D&quot;,\n",
       "                {&quot;attribution&quot;: &quot; &quot;, &quot;detectRetina&quot;: false, &quot;maxNativeZoom&quot;: 18, &quot;maxZoom&quot;: 18, &quot;minZoom&quot;: 0, &quot;noWrap&quot;: false, &quot;opacity&quot;: 1, &quot;subdomains&quot;: &quot;abc&quot;, &quot;tms&quot;: false}\n",
       "            );\n",
       "        \n",
       "    \n",
       "            tile_layer_756dab73111deb22cdd8102d1355eecb.addTo(map_9f22644b4cfaac1114c192fcab0f28b3);\n",
       "        \n",
       "    \n",
       "            var tile_layer_cc3acf391e6b3a70e3b66ac49470e2c6 = L.tileLayer(\n",
       "                &quot;http://127.0.0.1:8080/tiles/WebMercatorQuad/{z}/{x}/{y}@1x?url=..%2Fdata%2Fraw%2Fraster_data%2Fland_cover.tif\\u0026bidx=1\\u0026colormap=%7B%220%22%3A+%22%231327FE%22%2C+%221%22%3A+%22%230B4614%22%2C+%222%22%3A+%22%230C691B%22%2C+%223%22%3A+%22%2354A51B%22%2C+%224%22%3A+%22%2376D01E%22%2C+%225%22%3A+%22%23DCCF5C%22%2C+%226%22%3A+%22%23B4FE25%22%2C+%227%22%3A+%22%23DADC4D%22%2C+%228%22%3A+%22%23C25045%22%2C+%229%22%3A+%22%23A4A4A4%22%2C+%2210%22%3A+%22%2364FFF8%22%2C+%2211%22%3A+%22%23F9FEA4%22%7D&quot;,\n",
       "                {&quot;attribution&quot;: &quot; &quot;, &quot;detectRetina&quot;: false, &quot;maxNativeZoom&quot;: 18, &quot;maxZoom&quot;: 18, &quot;minZoom&quot;: 0, &quot;noWrap&quot;: false, &quot;opacity&quot;: 1, &quot;subdomains&quot;: &quot;abc&quot;, &quot;tms&quot;: false}\n",
       "            );\n",
       "        \n",
       "    \n",
       "            tile_layer_cc3acf391e6b3a70e3b66ac49470e2c6.addTo(map_9f22644b4cfaac1114c192fcab0f28b3);\n",
       "        \n",
       "    var vector_grid_protobuf_961a2cb4230aef5e3571e9490c8266db = L.vectorGrid.protobuf(\n",
       "                &#x27;http://127.0.0.1:8000/collections/public.countries/tiles/WebMercatorQuad/{z}/{x}/{y}&#x27;,\n",
       "                    {&quot;vectorTileLayerStyles&quot;: {&quot;default&quot;: {&quot;color&quot;: &quot;#06cccc&quot;, &quot;fill&quot;: true, &quot;fillColor&quot;: &quot;#06cccc&quot;, &quot;fillOpacity&quot;: 0.1, &quot;opacity&quot;: 1, &quot;weight&quot;: 1}}}\n",
       "            );\n",
       "    \n",
       "            vector_grid_protobuf_961a2cb4230aef5e3571e9490c8266db.addTo(map_9f22644b4cfaac1114c192fcab0f28b3);\n",
       "        \n",
       "    \n",
       "            var layer_control_2f9f99468197f82a86c73bf9cfa61740_layers = {\n",
       "                base_layers : {\n",
       "                    &quot;https://api.mapbox.com/styles/v1/lce1/clocw2j2d016501qx90go7rwt/tiles/256/{z}/{x}/{y}@2x?access_token=pk.eyj1ijoibgnlmsisimeioijjbg9jdjbybwuwmwzvmmlwzwrqzzn1emnkin0.ulj_xo9u8cj_qla2bmhl5w&quot; : tile_layer_3bc16cce607a1dde54accc8623cf1a42,\n",
       "                },\n",
       "                overlays :  {\n",
       "                    &quot;Landscape Capital Index&quot; : tile_layer_756dab73111deb22cdd8102d1355eecb,\n",
       "                    &quot;Land Cover&quot; : tile_layer_cc3acf391e6b3a70e3b66ac49470e2c6,\n",
       "                    &quot;Country Boundaries&quot; : vector_grid_protobuf_961a2cb4230aef5e3571e9490c8266db,\n",
       "                },\n",
       "            };\n",
       "            let layer_control_2f9f99468197f82a86c73bf9cfa61740 = L.control.layers(\n",
       "                layer_control_2f9f99468197f82a86c73bf9cfa61740_layers.base_layers,\n",
       "                layer_control_2f9f99468197f82a86c73bf9cfa61740_layers.overlays,\n",
       "                {&quot;autoZIndex&quot;: true, &quot;collapsed&quot;: true, &quot;position&quot;: &quot;topright&quot;}\n",
       "            ).addTo(map_9f22644b4cfaac1114c192fcab0f28b3);\n",
       "\n",
       "        \n",
       "&lt;/script&gt;\n",
       "&lt;/html&gt;\" style=\"position:absolute;width:100%;height:100%;left:0;top:0;border:none !important;\" allowfullscreen webkitallowfullscreen mozallowfullscreen></iframe></div></div>"
      ],
      "text/plain": [
       "<folium.folium.Map at 0x7f5af3ff8990>"
      ]
     },
     "execution_count": 17,
     "metadata": {},
     "output_type": "execute_result"
    }
   ],
   "source": [
    "# Add control to turn on/off the layer\n",
    "control = folium.LayerControl(position=\"topright\")\n",
    "control.add_to(m)\n",
    "m.show_in_browser()"
   ]
  }
 ],
 "metadata": {
  "kernelspec": {
   "display_name": "Python 3",
   "language": "python",
   "name": "python3"
  },
  "language_info": {
   "codemirror_mode": {
    "name": "ipython",
    "version": 3
   },
   "file_extension": ".py",
   "mimetype": "text/x-python",
   "name": "python",
   "nbconvert_exporter": "python",
   "pygments_lexer": "ipython3",
   "version": "3.11.4"
  }
 },
 "nbformat": 4,
 "nbformat_minor": 0
}
