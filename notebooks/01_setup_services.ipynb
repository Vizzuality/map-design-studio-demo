{
 "cells": [
  {
   "attachments": {},
   "cell_type": "markdown",
   "metadata": {
    "collapsed": false
   },
   "source": [
    "# Setup a TiTiler and TiPg services\n",
    "\n",
    "This notebook contains the code to set up a TiTiler and TiPg services."
   ]
  },
  {
   "attachments": {},
   "cell_type": "markdown",
   "metadata": {},
   "source": [
    "## Setup\n",
    "\n",
    "### Install TiTiler from PyPI and run it locally\n",
    "\n",
    "Make sure you have pip up to date\n",
    "```bash\n",
    "python -m pip install -U pip\n",
    "```\n",
    "\n",
    "Install TiTiler from PyPI\n",
    "```bash\n",
    "python -m pip  install titiler.{package}\n",
    "```\n",
    "e.g.,\n",
    "```bash\n",
    "python -m pip  install titiler.core\n",
    "python -m pip  install titiler.extensions\n",
    "python -m pip  install titiler.mosaic\n",
    "python -m pip  install titiler.application # also installs core, extensions and mosaic\n",
    "```\n",
    "\n",
    "Install uvicorn to run the FastAPI application locally\n",
    "```bash\n",
    "python -m pip install uvicorn\n",
    "```\n",
    "\n",
    "Launch application locally\n",
    "```bash\n",
    "uvicorn titiler.application.main:app\n",
    "```\n",
    "\n",
    "Alternativelly, you can create a [create a FastAPI router](https://developmentseed.org/titiler/advanced/tiler_factories/) (`fastapi.APIRouter`) with a minimal set of endpoints.\n",
    "\n",
    "You can run our custom app from the src folder with:\n",
    "```bash\n",
    "python titiler_app.py\n",
    "```\n",
    "\n",
    "### Install TiPg from PyPI and run it locally\n"
   ]
  },
  {
   "cell_type": "markdown",
   "metadata": {},
   "source": [
    "### Library import"
   ]
  },
  {
   "cell_type": "code",
   "execution_count": 1,
   "metadata": {
    "collapsed": false
   },
   "outputs": [],
   "source": [
    "import json\n",
    "\n",
    "import httpx\n",
    "from folium import Map, TileLayer"
   ]
  },
  {
   "attachments": {},
   "cell_type": "markdown",
   "metadata": {},
   "source": [
    "## Explore the data\n",
    "### Explore the COGs with TiTiler"
   ]
  },
  {
   "cell_type": "code",
   "execution_count": 2,
   "metadata": {},
   "outputs": [],
   "source": [
    "raster_data_path = \"../data/raw/raster_data/lci_cog_20231016_01.tif\"\n",
    "\n",
    "titiler_endpoint = \"http://127.0.0.1:8080\"  # Make sure to run the Titiler server locally"
   ]
  },
  {
   "cell_type": "markdown",
   "metadata": {},
   "source": [
    "**Get COG Info**"
   ]
  },
  {
   "cell_type": "code",
   "execution_count": 3,
   "metadata": {},
   "outputs": [
    {
     "name": "stdout",
     "output_type": "stream",
     "text": [
      "{\n",
      "    \"bounds\": [\n",
      "        -180.0,\n",
      "        -61.60639637138605,\n",
      "        179.99999999999935,\n",
      "        85.05112877980659\n",
      "    ],\n",
      "    \"minzoom\": 0,\n",
      "    \"maxzoom\": 5,\n",
      "    \"band_metadata\": [\n",
      "        [\n",
      "            \"b1\",\n",
      "            {}\n",
      "        ],\n",
      "        [\n",
      "            \"b2\",\n",
      "            {}\n",
      "        ],\n",
      "        [\n",
      "            \"b3\",\n",
      "            {}\n",
      "        ],\n",
      "        [\n",
      "            \"b4\",\n",
      "            {}\n",
      "        ]\n",
      "    ],\n",
      "    \"band_descriptions\": [\n",
      "        [\n",
      "            \"b1\",\n",
      "            \"index_b1\"\n",
      "        ],\n",
      "        [\n",
      "            \"b2\",\n",
      "            \"index_b2\"\n",
      "        ],\n",
      "        [\n",
      "            \"b3\",\n",
      "            \"index_b3\"\n",
      "        ],\n",
      "        [\n",
      "            \"b4\",\n",
      "            \"index_b4\"\n",
      "        ]\n",
      "    ],\n",
      "    \"dtype\": \"float32\",\n",
      "    \"nodata_type\": \"Nodata\",\n",
      "    \"colorinterp\": [\n",
      "        \"gray\",\n",
      "        \"undefined\",\n",
      "        \"undefined\",\n",
      "        \"undefined\"\n",
      "    ],\n",
      "    \"driver\": \"GTiff\",\n",
      "    \"count\": 4,\n",
      "    \"width\": 8192,\n",
      "    \"height\": 5888,\n",
      "    \"overviews\": [\n",
      "        2,\n",
      "        4,\n",
      "        8,\n",
      "        16\n",
      "    ],\n",
      "    \"nodata_value\": 255.0\n",
      "}\n"
     ]
    }
   ],
   "source": [
    "# Fetch File Metadata to get min/max rescaling values (because the file is stored as float32)\n",
    "try:\n",
    "    r = httpx.get(\n",
    "        f\"{titiler_endpoint}/info\",\n",
    "        params={\n",
    "            \"url\": raster_data_path,\n",
    "        },\n",
    "    ).json()\n",
    "\n",
    "    bounds = r[\"bounds\"]\n",
    "    print(json.dumps(r, indent=4))\n",
    "\n",
    "except httpx.HTTPError as e:\n",
    "    print(f\"HTTP error occurred: {e}\")\n",
    "\n",
    "except Exception as e:\n",
    "    print(f\"An error occurred: {e}\")"
   ]
  },
  {
   "cell_type": "markdown",
   "metadata": {},
   "source": [
    "**Display Tiles**\n",
    "\n",
    "Using the `expression` parameter you can apply a custom formula to the data. The formula is applied to each pixel in each band and the result is used to create the output image. The formula is written in [numexpr](https://numexpr.readthedocs.io/en/latest/index.html) syntax."
   ]
  },
  {
   "cell_type": "code",
   "execution_count": 4,
   "metadata": {},
   "outputs": [],
   "source": [
    "r = httpx.get(\n",
    "    f\"{titiler_endpoint}/tilejson.json\",\n",
    "    params={\n",
    "        \"url\": raster_data_path,\n",
    "        \"bidx\": [1, 2, 3, 4],\n",
    "        \"rescale\": \"0,100\",\n",
    "        \"expression\": \"(b1+b2+b3+b4)/4\",\n",
    "        \"colormap_name\": \"schwarzwald\",\n",
    "    },\n",
    ").json()"
   ]
  },
  {
   "cell_type": "code",
   "execution_count": 6,
   "metadata": {},
   "outputs": [
    {
     "name": "stdout",
     "output_type": "stream",
     "text": [
      "Your map should have been opened in your browser automatically.\n",
      "Press ctrl+c to return.\n"
     ]
    }
   ],
   "source": [
    "m = Map(location=((bounds[1] + bounds[3]) / 2, (bounds[0] + bounds[2]) / 2), zoom_start=3)\n",
    "\n",
    "TileLayer(tiles=r[\"tiles\"][0], opacity=1, attr=\"LCI\").add_to(m)\n",
    "\n",
    "m.show_in_browser()"
   ]
  }
 ],
 "metadata": {
  "kernelspec": {
   "display_name": "Python 3",
   "language": "python",
   "name": "python3"
  },
  "language_info": {
   "codemirror_mode": {
    "name": "ipython",
    "version": 3
   },
   "file_extension": ".py",
   "mimetype": "text/x-python",
   "name": "python",
   "nbconvert_exporter": "python",
   "pygments_lexer": "ipython3",
   "version": "3.11.4"
  }
 },
 "nbformat": 4,
 "nbformat_minor": 0
}
