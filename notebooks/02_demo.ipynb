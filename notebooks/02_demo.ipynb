{
 "cells": [
  {
   "attachments": {},
   "cell_type": "markdown",
   "metadata": {
    "collapsed": false
   },
   "source": [
    "# Map Design Studio Demo\n",
    "\n",
    "The porpose of this demo is to show how to use the Map Design Studio to create a map."
   ]
  },
  {
   "attachments": {},
   "cell_type": "markdown",
   "metadata": {},
   "source": [
    "## Setup\n",
    "\n",
    "### Library import\n"
   ]
  },
  {
   "cell_type": "code",
   "execution_count": 1,
   "metadata": {
    "collapsed": false
   },
   "outputs": [],
   "source": [
    "# imports\n",
    "import sys\n",
    "\n",
    "# Include local library paths if you have ../src/utils.py\n",
    "sys.path.append(\"../src/studio\")\n",
    "\n",
    "import folium\n",
    "import numpy as np\n",
    "from layers import Layer\n",
    "from map import FoliumMap\n",
    "from matplotlib.colors import LinearSegmentedColormap"
   ]
  },
  {
   "cell_type": "markdown",
   "metadata": {},
   "source": [
    "### Utils"
   ]
  },
  {
   "cell_type": "code",
   "execution_count": 2,
   "metadata": {},
   "outputs": [],
   "source": [
    "def rgb_to_hex(rgb):\n",
    "    \"\"\"\n",
    "    Convert RGB color values to hexadecimal representation.\n",
    "\n",
    "    Args:\n",
    "        rgb (tuple): A tuple of three integers representing the RGB color values.\n",
    "\n",
    "    Returns:\n",
    "        str: The hexadecimal representation of the RGB color values.\n",
    "\n",
    "    Example:\n",
    "        >>> rgb_to_hex((255, 0, 0))\n",
    "        '#ff0000'\n",
    "    \"\"\"\n",
    "    return \"#{:02x}{:02x}{:02x}\".format(*rgb)\n",
    "\n",
    "\n",
    "def generate_styles_dict(colors):\n",
    "    \"\"\"\n",
    "    Generate a dictionary of color map values from a list of colors.\n",
    "\n",
    "    Args:\n",
    "        colors (list): A list of colors.\n",
    "\n",
    "    Returns:\n",
    "        dict: A dictionary of color map values.\n",
    "\n",
    "    \"\"\"\n",
    "    cmap = LinearSegmentedColormap.from_list(\"cmap\", colors, 256)\n",
    "    x = np.linspace(0, 1, 256)\n",
    "    cmap_vals = cmap(x)[:, :]\n",
    "    cmap_uint8 = (cmap_vals * 255).astype(\"uint8\")\n",
    "    cmap_dict = {str(idx): rgb_to_hex(tuple(value)[:-1]) for idx, value in enumerate(cmap_uint8)}\n",
    "    return cmap_dict"
   ]
  },
  {
   "attachments": {},
   "cell_type": "markdown",
   "metadata": {
    "collapsed": false
   },
   "source": [
    "<a id='section_1'></a>\n",
    "## Demo"
   ]
  },
  {
   "cell_type": "markdown",
   "metadata": {},
   "source": [
    "### Create Layers\n",
    "#### Continuous raster layer\n",
    "**Styles**"
   ]
  },
  {
   "cell_type": "code",
   "execution_count": 3,
   "metadata": {},
   "outputs": [],
   "source": [
    "colors = [\n",
    "    '#422112',\n",
    "    '#724C01',\n",
    "    '#CEA712',\n",
    "    '#FFA904',\n",
    "    '#FDFE00',\n",
    "    '#E6EC06',\n",
    "    '#BACF00',\n",
    "    '#8BB001',\n",
    "    '#72A002',\n",
    "    '#5B8D03',\n",
    "    '#448102',\n",
    "    '#2C7001',\n",
    "    '#176100',\n",
    "]\n",
    "styles_dict = generate_styles_dict(colors)"
   ]
  },
  {
   "cell_type": "markdown",
   "metadata": {},
   "source": [
    "**Layer**"
   ]
  },
  {
   "cell_type": "code",
   "execution_count": 4,
   "metadata": {},
   "outputs": [],
   "source": [
    "raster_layer_continuous = Layer(id=1, styles=styles_dict, opacity=0.5)  # noqa: F821"
   ]
  },
  {
   "cell_type": "markdown",
   "metadata": {},
   "source": [
    "#### Categorical raster layer\n",
    "**Styles**"
   ]
  },
  {
   "cell_type": "code",
   "execution_count": 5,
   "metadata": {},
   "outputs": [],
   "source": [
    "styles_dict = {\n",
    "    \"0\": \"#1327FE\",\n",
    "    \"1\": \"#0B4614\",\n",
    "    \"2\": \"#0C691B\",\n",
    "    \"3\": \"#54A51B\",\n",
    "    \"4\": \"#76D01E\",\n",
    "    \"5\": \"#DCCF5C\",\n",
    "    \"6\": \"#B4FE25\",\n",
    "    \"7\": \"#DADC4D\",\n",
    "    \"8\": \"#C25045\",\n",
    "    \"9\": \"#A4A4A4\",\n",
    "    \"10\": \"#64FFF8\",\n",
    "    \"11\": \"#F9FEA4\",\n",
    "}"
   ]
  },
  {
   "cell_type": "markdown",
   "metadata": {},
   "source": [
    "**Layer**"
   ]
  },
  {
   "cell_type": "code",
   "execution_count": 6,
   "metadata": {},
   "outputs": [],
   "source": [
    "raster_layer_categorical = Layer(id=2, styles=styles_dict, opacity=1)"
   ]
  },
  {
   "cell_type": "markdown",
   "metadata": {},
   "source": [
    "#### Vector layer\n",
    "**Styles**"
   ]
  },
  {
   "cell_type": "code",
   "execution_count": 7,
   "metadata": {},
   "outputs": [],
   "source": [
    "styles_dict = {\n",
    "    \"fill\": True,\n",
    "    \"weight\": 1,\n",
    "    \"fillColor\": \"#06cccc\",\n",
    "    \"color\": \"#06cccc\",\n",
    "    \"fillOpacity\": 0.1,\n",
    "    \"opacity\": 1,\n",
    "}"
   ]
  },
  {
   "cell_type": "markdown",
   "metadata": {},
   "source": [
    "**Layer**"
   ]
  },
  {
   "cell_type": "code",
   "execution_count": 8,
   "metadata": {
    "collapsed": false
   },
   "outputs": [],
   "source": [
    "vector_layer = Layer(id=3, styles=styles_dict)"
   ]
  },
  {
   "cell_type": "markdown",
   "metadata": {},
   "source": [
    "### Map"
   ]
  },
  {
   "cell_type": "code",
   "execution_count": 9,
   "metadata": {},
   "outputs": [
    {
     "name": "stdout",
     "output_type": "stream",
     "text": [
      "Your map should have been opened in your browser automatically.\n",
      "Press ctrl+c to return.\n"
     ]
    }
   ],
   "source": [
    "m = FoliumMap()\n",
    "# Add layers to the map\n",
    "m.add_raster_layer(raster_layer_categorical)\n",
    "m.add_raster_layer(raster_layer_continuous)\n",
    "m.add_vector_layer(vector_layer)\n",
    "# Add control to turn on/off the layer\n",
    "control = folium.LayerControl(position=\"topright\")\n",
    "control.add_to(m)\n",
    "m.show_in_browser()"
   ]
  }
 ],
 "metadata": {
  "kernelspec": {
   "display_name": "Python 3",
   "language": "python",
   "name": "python3"
  },
  "language_info": {
   "codemirror_mode": {
    "name": "ipython",
    "version": 3
   },
   "file_extension": ".py",
   "mimetype": "text/x-python",
   "name": "python",
   "nbconvert_exporter": "python",
   "pygments_lexer": "ipython3",
   "version": "3.11.4"
  }
 },
 "nbformat": 4,
 "nbformat_minor": 0
}
